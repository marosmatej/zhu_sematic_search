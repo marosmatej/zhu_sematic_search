{
 "cells": [
  {
   "cell_type": "code",
   "execution_count": 2,
   "metadata": {},
   "outputs": [
    {
     "name": "stdout",
     "output_type": "stream",
     "text": [
      "                                              review\n",
      "0  This movie was fantastic! I loved every moment...\n",
      "1     An absolute masterpiece with stunning visuals.\n",
      "2     Not my favorite movie, but it had its moments.\n",
      "3  Terrible plot and acting. I wouldn't recommend...\n",
      "4             Quite enjoyable with a good storyline.\n"
     ]
    }
   ],
   "source": [
    "import pandas as pd\n",
    "\n",
    "# Load a small IMDb reviews dataset\n",
    "# You can find sample datasets online or use the Hugging Face Datasets library\n",
    "'''reviews = [\n",
    "    \"This movie was fantastic! I loved every moment of it.\",\n",
    "    \"An absolute masterpiece with stunning visuals.\",\n",
    "    \"Not my favorite movie, but it had its moments.\",\n",
    "    \"Terrible plot and acting. I wouldn't recommend it.\",\n",
    "    \"Quite enjoyable with a good storyline.\",\n",
    "]'''\n",
    "\n",
    "reviews = [\n",
    "    \"This movie was an absolute masterpiece! The visuals and story captivated me from start to finish.\",\n",
    "    \"An unforgettable experience with stunning visuals and a captivating story. Truly a masterpiece!\",\n",
    "    \"I didn't enjoy the movie; the plot was too predictable and lacked originality.\",\n",
    "    \"The movie had a predictable plot and felt like it was missing originality. Not enjoyable for me.\",\n",
    "    \"A thrilling adventure with twists and turns that kept me on the edge of my seat!\",\n",
    "    \"What a rollercoaster! The thrilling plot twists kept me engaged till the very end.\",\n",
    "    \"The acting was phenomenal, and every scene was well-executed.\",\n",
    "    \"Impressive performances from the cast, with each scene executed perfectly.\",\n",
    "    \"A waste of time – I couldn’t sit through the entire movie.\",\n",
    "    \"I couldn’t finish the movie; it was such a waste of time.\",\n",
    "    \"Great film! The character development was strong, and the soundtrack was amazing.\",\n",
    "    \"Loved it! The characters grew so well, and the music complemented the story perfectly.\",\n",
    "    \"Not the best film I’ve seen, but the cinematography was beautiful.\",\n",
    "    \"While the story wasn’t compelling, I appreciated the beautiful cinematography.\",\n",
    "    \"A fun and lighthearted film that’s perfect for a relaxing evening.\",\n",
    "    \"An easy-going movie with a charming vibe, great for unwinding after a long day.\",\n",
    "    \"Incredible storyline with twists I didn’t see coming!\",\n",
    "    \"An unexpected plot that took me by surprise! Amazing story!\",\n",
    "    \"The film left me feeling emotional and deeply moved.\",\n",
    "    \"A powerful and emotional film that resonated with me.\",\n",
    "    \"It was a boring and drawn-out film with no real climax.\",\n",
    "    \"Slow-paced and uneventful, this movie dragged without a proper climax.\",\n",
    "    \"A cinematic masterpiece that deserves all the praise it’s been getting.\",\n",
    "    \"This film is a true work of art and deserves every bit of acclaim.\",\n",
    "    \"The plot was confusing and hard to follow, even for an avid moviegoer.\",\n",
    "    \"Even as someone who loves complex plots, I found this one confusing and hard to follow.\",\n",
    "    \"The suspense was well-built, and the payoff was worth it.\",\n",
    "    \"I loved the suspense in this movie, and the climax delivered exactly what I hoped for.\",\n",
    "    \"The comedy was on point and had me laughing the entire time.\",\n",
    "    \"It was hilarious! I was laughing throughout thanks to the spot-on comedy.\"\n",
    "]\n",
    "df = pd.DataFrame(reviews, columns=['review'])\n",
    "print(df.head())\n"
   ]
  },
  {
   "cell_type": "code",
   "execution_count": 3,
   "metadata": {},
   "outputs": [
    {
     "name": "stdout",
     "output_type": "stream",
     "text": [
      "0    this movie was fantastic i loved every moment ...\n",
      "1        an absolute masterpiece with stunning visuals\n",
      "2         not my favorite movie but it had its moments\n",
      "3      terrible plot and acting i wouldnt recommend it\n",
      "4                quite enjoyable with a good storyline\n",
      "Name: cleaned_review, dtype: object\n"
     ]
    }
   ],
   "source": [
    "import re\n",
    "\n",
    "def preprocess(text):\n",
    "    # Lowercase and remove special characters\n",
    "    text = text.lower()\n",
    "    text = re.sub(r'[^a-zA-Z0-9\\s]', '', text)\n",
    "    return text\n",
    "\n",
    "df['cleaned_review'] = df['review'].apply(preprocess)\n",
    "print(df['cleaned_review'].head())\n"
   ]
  },
  {
   "cell_type": "code",
   "execution_count": 4,
   "metadata": {},
   "outputs": [
    {
     "name": "stderr",
     "output_type": "stream",
     "text": [
      "c:\\Users\\marko\\Documents\\DeepLearning\\zhu_sematic_search\\.venv\\Lib\\site-packages\\sentence_transformers\\cross_encoder\\CrossEncoder.py:13: TqdmWarning: IProgress not found. Please update jupyter and ipywidgets. See https://ipywidgets.readthedocs.io/en/stable/user_install.html\n",
      "  from tqdm.autonotebook import tqdm, trange\n",
      "c:\\Users\\marko\\Documents\\DeepLearning\\zhu_sematic_search\\.venv\\Lib\\site-packages\\huggingface_hub\\file_download.py:139: UserWarning: `huggingface_hub` cache-system uses symlinks by default to efficiently store duplicated files but your machine does not support them in C:\\Users\\marko\\.cache\\huggingface\\hub\\models--sentence-transformers--paraphrase-MiniLM-L6-v2. Caching files will still work but in a degraded version that might require more space on your disk. This warning can be disabled by setting the `HF_HUB_DISABLE_SYMLINKS_WARNING` environment variable. For more details, see https://huggingface.co/docs/huggingface_hub/how-to-cache#limitations.\n",
      "To support symlinks on Windows, you either need to activate Developer Mode or to run Python as an administrator. In order to activate developer mode, see this article: https://docs.microsoft.com/en-us/windows/apps/get-started/enable-your-device-for-development\n",
      "  warnings.warn(message)\n"
     ]
    }
   ],
   "source": [
    "from sentence_transformers import SentenceTransformer\n",
    "\n",
    "# Load pre-trained SBERT model\n",
    "sbert_model = SentenceTransformer('paraphrase-MiniLM-L6-v2')\n",
    "\n",
    "# Encode all reviews to get their embeddings\n",
    "sbert_embeddings = sbert_model.encode(df['cleaned_review'].tolist())\n"
   ]
  },
  {
   "cell_type": "code",
   "execution_count": 5,
   "metadata": {},
   "outputs": [
    {
     "name": "stderr",
     "output_type": "stream",
     "text": [
      "c:\\Users\\marko\\Documents\\DeepLearning\\zhu_sematic_search\\.venv\\Lib\\site-packages\\huggingface_hub\\file_download.py:139: UserWarning: `huggingface_hub` cache-system uses symlinks by default to efficiently store duplicated files but your machine does not support them in C:\\Users\\marko\\.cache\\huggingface\\hub\\models--distilbert-base-uncased. Caching files will still work but in a degraded version that might require more space on your disk. This warning can be disabled by setting the `HF_HUB_DISABLE_SYMLINKS_WARNING` environment variable. For more details, see https://huggingface.co/docs/huggingface_hub/how-to-cache#limitations.\n",
      "To support symlinks on Windows, you either need to activate Developer Mode or to run Python as an administrator. In order to activate developer mode, see this article: https://docs.microsoft.com/en-us/windows/apps/get-started/enable-your-device-for-development\n",
      "  warnings.warn(message)\n"
     ]
    }
   ],
   "source": [
    "from transformers import DistilBertModel, DistilBertTokenizer\n",
    "import torch\n",
    "\n",
    "# Load pre-trained DistilBERT model\n",
    "distilbert_model = DistilBertModel.from_pretrained('distilbert-base-uncased')\n",
    "distilbert_tokenizer = DistilBertTokenizer.from_pretrained('distilbert-base-uncased')\n",
    "\n",
    "def get_distilbert_embedding(text):\n",
    "    inputs = distilbert_tokenizer(text, return_tensors=\"pt\")\n",
    "    with torch.no_grad():\n",
    "        outputs = distilbert_model(**inputs)\n",
    "    return outputs.last_hidden_state.mean(dim=1).squeeze().numpy()\n",
    "\n",
    "# Get embeddings for each review\n",
    "distilbert_embeddings = [get_distilbert_embedding(text) for text in df['cleaned_review']]\n"
   ]
  },
  {
   "cell_type": "code",
   "execution_count": 6,
   "metadata": {},
   "outputs": [
    {
     "name": "stderr",
     "output_type": "stream",
     "text": [
      "c:\\Users\\marko\\Documents\\DeepLearning\\zhu_sematic_search\\.venv\\Lib\\site-packages\\huggingface_hub\\file_download.py:139: UserWarning: `huggingface_hub` cache-system uses symlinks by default to efficiently store duplicated files but your machine does not support them in C:\\Users\\marko\\.cache\\huggingface\\hub\\models--sentence-transformers--all-MiniLM-L6-v2. Caching files will still work but in a degraded version that might require more space on your disk. This warning can be disabled by setting the `HF_HUB_DISABLE_SYMLINKS_WARNING` environment variable. For more details, see https://huggingface.co/docs/huggingface_hub/how-to-cache#limitations.\n",
      "To support symlinks on Windows, you either need to activate Developer Mode or to run Python as an administrator. In order to activate developer mode, see this article: https://docs.microsoft.com/en-us/windows/apps/get-started/enable-your-device-for-development\n",
      "  warnings.warn(message)\n"
     ]
    }
   ],
   "source": [
    "from transformers import AutoModel, AutoTokenizer\n",
    "\n",
    "# Load pre-trained MiniLM model\n",
    "minilm_model = SentenceTransformer('all-MiniLM-L6-v2')\n",
    "\n",
    "# Encode reviews to embeddings\n",
    "minilm_embeddings = minilm_model.encode(df['cleaned_review'].tolist())\n"
   ]
  },
  {
   "cell_type": "code",
   "execution_count": 7,
   "metadata": {},
   "outputs": [],
   "source": [
    "from sklearn.metrics.pairwise import cosine_similarity\n",
    "\n",
    "def semantic_search(query, embeddings, model, reviews):\n",
    "    # Preprocess the query\n",
    "    query = preprocess(query)\n",
    "    \n",
    "    # Get query embedding\n",
    "    query_embedding = model.encode([query]) if model != distilbert_model else get_distilbert_embedding(query).reshape(1, -1)\n",
    "    \n",
    "    # Calculate cosine similarity between query and all review embeddings\n",
    "    similarities = cosine_similarity(query_embedding, embeddings).flatten()\n",
    "    \n",
    "    # Find the index of the most similar review\n",
    "    most_similar_idx = similarities.argmax()\n",
    "    \n",
    "    # Fetch the review and similarity score\n",
    "    similar_review = reviews.iloc[most_similar_idx]\n",
    "    similarity_score = similarities[most_similar_idx]\n",
    "    \n",
    "    # Print query and the most similar result\n",
    "    print(f\"Query: {query}\")\n",
    "    print(f\"Most Similar Review: {similar_review}\")\n",
    "    print(f\"Similarity Score: {similarity_score:.4f}\\n\")\n",
    "\n",
    "# Example usage\n",
    "query = \"A masterpiece with stunning visuals and a gripping story.\"\n",
    "semantic_search(query, sbert_embeddings, sbert_model, df['review'])\n",
    "\n",
    "query = \"The plot was confusing and hard to understand.\"\n",
    "semantic_search(query, distilbert_embeddings, distilbert_model, df['review'])\n",
    "\n",
    "query = \"I couldn't stop laughing; the comedy was spot-on.\"\n",
    "semantic_search(query, minilm_embeddings, minilm_model, df['review'])\n"
   ]
  }
 ],
 "metadata": {
  "kernelspec": {
   "display_name": ".venv",
   "language": "python",
   "name": "python3"
  },
  "language_info": {
   "codemirror_mode": {
    "name": "ipython",
    "version": 3
   },
   "file_extension": ".py",
   "mimetype": "text/x-python",
   "name": "python",
   "nbconvert_exporter": "python",
   "pygments_lexer": "ipython3",
   "version": "3.12.0"
  }
 },
 "nbformat": 4,
 "nbformat_minor": 2
}
